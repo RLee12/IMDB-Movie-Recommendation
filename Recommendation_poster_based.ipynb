{
 "cells": [
  {
   "cell_type": "code",
   "execution_count": 1,
   "metadata": {},
   "outputs": [
    {
     "name": "stderr",
     "output_type": "stream",
     "text": [
      "Using TensorFlow backend.\n"
     ]
    }
   ],
   "source": [
    "import numpy as np\n",
    "import urllib\n",
    "import pandas as pd \n",
    "\n",
    "import requests\n",
    "import os\n",
    "import json\n",
    "\n",
    "from IPython.display import Image\n",
    "from IPython.display import HTML\n",
    "from IPython.display import display\n",
    "from PIL import Image\n",
    "\n",
    "from keras.applications import VGG16\n",
    "from keras.preprocessing import image as kimage\n",
    "from keras.applications.vgg16 import preprocess_input"
   ]
  },
  {
   "cell_type": "markdown",
   "metadata": {},
   "source": [
    "<h3>1. Load the movie data</h3>"
   ]
  },
  {
   "cell_type": "code",
   "execution_count": 2,
   "metadata": {
    "collapsed": true
   },
   "outputs": [],
   "source": [
    "#read in files\n",
    "df = pd.read_csv('df.csv', sep=',', encoding = 'iso-8859-1')"
   ]
  },
  {
   "cell_type": "markdown",
   "metadata": {},
   "source": [
    "<h3>2. Define function to query poster urls for movies</h3>"
   ]
  },
  {
   "cell_type": "code",
   "execution_count": 3,
   "metadata": {
    "collapsed": true
   },
   "outputs": [],
   "source": [
    "\"\"\"Input: IMDB movie ID\n",
    "   Outpu: poster url for that movie\"\"\"\n",
    "\n",
    "def getPoster(imdbid):\n",
    "    try:\n",
    "        url = \"https://api.themoviedb.org/3/find/tt{:}?api_key=bb3beb7ec7af6d1c0c23ca7381b62a89&external_source=imdb_id\".format(imdbid)\n",
    "        response = requests.get(url)\n",
    "        path = json.loads(response.text)\n",
    "        image_root = path['movie_results'][0]['poster_path']\n",
    "        image_path = 'http://image.tmdb.org/t/p/w185/' + image_root   \n",
    "    except:\n",
    "        image_path = \"\"    \n",
    "    return image_path"
   ]
  },
  {
   "cell_type": "markdown",
   "metadata": {},
   "source": [
    "<h3>3. Query movie posters</h3>"
   ]
  },
  {
   "cell_type": "code",
   "execution_count": 29,
   "metadata": {
    "collapsed": true
   },
   "outputs": [],
   "source": [
    "#make imdb id equal length\n",
    "imdbid = [str(i).zfill(7) for i in df.imdbId]\n",
    "imdbid = list(set(imdbid))"
   ]
  },
  {
   "cell_type": "code",
   "execution_count": null,
   "metadata": {
    "collapsed": true
   },
   "outputs": [],
   "source": [
    "# get the poster url for each movies\n",
    "image_url = []\n",
    "for i in imdbid:\n",
    "    image_url.append(getPoster(i))"
   ]
  },
  {
   "cell_type": "markdown",
   "metadata": {},
   "source": [
    "<h3>4. Put IMDB IDs, genres, poster urls into a dataframe</h3>"
   ]
  },
  {
   "cell_type": "code",
   "execution_count": 56,
   "metadata": {
    "collapsed": true,
    "scrolled": true
   },
   "outputs": [],
   "source": [
    "# map imdb ids with genres \n",
    "genreList = [i.encode('ascii','ignore').split('|') for i in list(df.genres)]\n",
    "genreDict = pd.DataFrame(zip(imdbidGenre, genreList))\n",
    "genreDict.columns = ['imdbid', 'genre']\n",
    "genreDict = genreDict.drop_duplicates(['imdbid'])"
   ]
  },
  {
   "cell_type": "code",
   "execution_count": 7,
   "metadata": {
    "collapsed": true
   },
   "outputs": [],
   "source": [
    "df_image = pd.DataFrame({'imdbid': imdbid, \n",
    "                         'image_url':image_url,\n",
    "                         'idx':range(len(imdbid))}\n",
    "                         )"
   ]
  },
  {
   "cell_type": "code",
   "execution_count": 59,
   "metadata": {
    "collapsed": true,
    "scrolled": true
   },
   "outputs": [],
   "source": [
    "# update the df_image\n",
    "df_image = pd.merge(df_image, genreDict, left_on=['imdbid'],\n",
    "              right_on=['imdbid'],\n",
    "              how='inner')"
   ]
  },
  {
   "cell_type": "code",
   "execution_count": 62,
   "metadata": {},
   "outputs": [
    {
     "name": "stdout",
     "output_type": "stream",
     "text": [
      "Stored 'df_image' (DataFrame)\n"
     ]
    }
   ],
   "source": [
    "%store df_image"
   ]
  },
  {
   "cell_type": "code",
   "execution_count": 5,
   "metadata": {
    "collapsed": true
   },
   "outputs": [],
   "source": [
    "%store -r df_image"
   ]
  },
  {
   "cell_type": "markdown",
   "metadata": {},
   "source": [
    "<h3>5. Download movie posters to local directory</h3>"
   ]
  },
  {
   "cell_type": "code",
   "execution_count": 6,
   "metadata": {
    "collapsed": true
   },
   "outputs": [],
   "source": [
    "poster_path = os.getcwd() +\"/posters/\""
   ]
  },
  {
   "cell_type": "code",
   "execution_count": 10,
   "metadata": {
    "collapsed": true
   },
   "outputs": [],
   "source": [
    "\"\"\"\"\"\"\n",
    "###create gray image for missing poster\"\"\"\n",
    "arr = np.random.randint(120,130, 185*278)\n",
    "arr.resize((278,185))\n",
    "gray = Image.fromarray(arr.astype('uint8'))\n",
    "###"
   ]
  },
  {
   "cell_type": "code",
   "execution_count": null,
   "metadata": {
    "collapsed": true
   },
   "outputs": [],
   "source": [
    "for i in range(len(df_image)):\n",
    "    try:\n",
    "        urllib.urlretrieve(df_image.image_url[i], poster_path + str(i) + '.jpg')\n",
    "    except:\n",
    "        # if not find posters, replace by a grey image\n",
    "        gray.convert('RGB').save(poster_path + str(i) + '.jpg', 'JPEG')"
   ]
  },
  {
   "cell_type": "markdown",
   "metadata": {},
   "source": [
    "<h3>6. Train the model</h3>"
   ]
  },
  {
   "cell_type": "code",
   "execution_count": 18,
   "metadata": {
    "collapsed": true
   },
   "outputs": [],
   "source": [
    "#preprocess image\n",
    "img = [0]*len(df_image)\n",
    "x = [0]*len(df_image)\n",
    "for i in range(len(df_image)):\n",
    "    img[i] = kimage.load_img(poster_path + str(i) + \".jpg\", target_size=(224, 224))\n",
    "    x[i] = kimage.img_to_array(img[i])\n",
    "    x[i] = np.expand_dims(x[i], axis=0)\n",
    "    x[i] = preprocess_input(x[i])\n",
    "    \n",
    "# image_top=False removes final connected layers\n",
    "model = VGG16(include_top=False, weights='imagenet') \n",
    "\n",
    "# create prediction\n",
    "pred = [0]*len(df_image)\n",
    "pred_norm = [0]*len(df_image)\n",
    "matrix_res = np.zeros([len(df_image), 25088])\n",
    "for i in range(len(df_image)):\n",
    "    pred[i] = model.predict(x[i]).ravel()\n",
    "    matrix_res[i,:] = pred[i]  "
   ]
  },
  {
   "cell_type": "code",
   "execution_count": 22,
   "metadata": {},
   "outputs": [
    {
     "name": "stdout",
     "output_type": "stream",
     "text": [
      "Stored 'sim' (ndarray)\n",
      "Stored 'matrix_res' (ndarray)\n",
      "Stored 'pred' (list)\n"
     ]
    }
   ],
   "source": [
    "%store matrix_res"
   ]
  },
  {
   "cell_type": "code",
   "execution_count": 7,
   "metadata": {
    "collapsed": true
   },
   "outputs": [],
   "source": [
    "%store -r matrix_res"
   ]
  },
  {
   "cell_type": "markdown",
   "metadata": {},
   "source": [
    "<h3>7. Write recommendation function</h3>"
   ]
  },
  {
   "cell_type": "code",
   "execution_count": 88,
   "metadata": {
    "collapsed": true
   },
   "outputs": [],
   "source": [
    "def recommendation(myinput):\n",
    "    # find poster \n",
    "    urlencoded = urllib.urlencode({'query':myinput})\n",
    "    url = 'https://api.themoviedb.org/3/search/movie?api_key=bb3beb7ec7af6d1c0c23ca7381b62a89&language=en-US&{:}&page=1&include_adult=false'.format(urlencoded)\n",
    "    response = requests.get(url)\n",
    "    path = json.loads(response.text)\n",
    "    posterurl = 'http://image.tmdb.org/t/p/w185' + path['results'][0]['poster_path'].encode('ascii','ignore')\n",
    "\n",
    "    # save poster\n",
    "    current_path = os.getcwd() +\"/posters/\"\n",
    "    try:\n",
    "        urllib.urlretrieve(posterurl, current_path + 'myinput' + '.jpg')\n",
    "    except:\n",
    "        # if not find posters, replace by a grey image\n",
    "        ###create gray image for missing poster\"\"\"\n",
    "        arr = np.random.randint(120,130, 185*278)\n",
    "        arr.resize((278,185))\n",
    "        gray = Image.fromarray(arr.astype('uint8'))\n",
    "        gray.convert('RGB').save(current_path + 'myinput' + '.jpg', 'JPEG')\n",
    "\n",
    "    # find genre\n",
    "    genre_id = path['results'][0]['genre_ids']\n",
    "    genreL = 'https://api.themoviedb.org/3/genre/movie/list?api_key=bb3beb7ec7af6d1c0c23ca7381b62a89&language=en-US'\n",
    "    response2 = requests.get(genreL)\n",
    "    path2 = json.loads(response2.text)\n",
    "    gen_df = pd.DataFrame(path2['genres'])\n",
    "    movie_gen = [list(gen_df[gen_df['id'] == i]['name'])[0].encode('ascii','ignore') for i in genre_id]\n",
    "\n",
    "    # process input movie poster\n",
    "    img = kimage.load_img(current_path + 'myinput' + \".jpg\", target_size=(224, 224))\n",
    "    x = kimage.img_to_array(img)\n",
    "    x = np.expand_dims(x, axis=0)\n",
    "    x = preprocess_input(x)    \n",
    "    model = VGG16(include_top=False, weights='imagenet') \n",
    "    mypre = model.predict(x).ravel()\n",
    "    \n",
    "    # create similarity matrix\n",
    "    mysim = matrix_res.dot(mypre.T)\n",
    "    mynorms = np.array([np.sqrt(mysim)])\n",
    "    mysim = mysim / mynorms / mynorms.T\n",
    "    \n",
    "    # check if our trained dataset has the posters for the input movie\n",
    "    # if so, remove the most similar poster(which is the input movie itself)\n",
    "    if (path['results'][0]['id'] in list(df.tmdbId)):\n",
    "        rec_movie_imdbid = [list(df_image[df_image['idx'] == x]['imdbid'])[0] for x in np.argsort(mysim[0,:])[:-3:-1]][1:]\n",
    "    else:\n",
    "        rec_movie_imdbid = [list(df_image[df_image['idx'] == x]['imdbid'])[0] for x in np.argsort(mysim[0,:])[:-3-1:-1]]\n",
    "        \n",
    "    # order the recommendation list by the number of shared genre\n",
    "    #rec_genre = [list(df_image[df_image['imdbid'] == i]['genre'])[0] for i in rec_movie_imdbid]\n",
    "    #sameGenreNum = [len(set.intersection(set(movie_gen), set(i))) for i in rec_genre] \n",
    "    #final = [x for (y,x) in sorted(zip(sameGenreNum, rec_movie_imdbid))][::-1][:10]\n",
    "    \n",
    "    return rec_movie_imdbid, posterurl\n"
   ]
  },
  {
   "cell_type": "code",
   "execution_count": 29,
   "metadata": {
    "collapsed": true
   },
   "outputs": [],
   "source": [
    "def display_recommendation_poster(myinput):\n",
    "    imdbidList, input_posterurl = recommendation(myinput)\n",
    "\n",
    "    # print the input movie poster first\n",
    "    print('Input Moive: %s' %myinput)\n",
    "    input_image = \"<img style='width: 110px; margin: 0px; float: left; border: 1px solid black;' src='%s' />\"% input_posterurl\n",
    "    display(HTML(input_image))\n",
    "    \n",
    "    # then print the recommendations\n",
    "    rec_movie_url = [getPoster(i) for i in imdbidList] \n",
    "    images = ''\n",
    "    print(\"Recommendations:\")\n",
    "    for i in range(len(imdbidList)):\n",
    "        images += \"<img style='width: 110px; margin: 0px; float: left; border: 1px solid black;' src='%s' />\"% rec_movie_url[i]\n",
    "    display(HTML(images))"
   ]
  },
  {
   "cell_type": "code",
   "execution_count": 91,
   "metadata": {},
   "outputs": [
    {
     "data": {
      "text/plain": [
       "['Tron', 'Toy Story', 'Forest Gump', 'Batman', 'Superman']"
      ]
     },
     "execution_count": 91,
     "metadata": {},
     "output_type": "execute_result"
    }
   ],
   "source": [
    "# randomly create a list of movies \n",
    "movieList = ['Tron', 'Toy Story', 'Forest Gump', 'Batman', 'Superman']\n",
    "movieList"
   ]
  },
  {
   "cell_type": "code",
   "execution_count": 92,
   "metadata": {
    "scrolled": false
   },
   "outputs": [
    {
     "name": "stdout",
     "output_type": "stream",
     "text": [
      "Input Moive: Tron\n"
     ]
    },
    {
     "data": {
      "text/html": [
       "<img style='width: 110px; margin: 0px; float: left; border: 1px solid black;' src='http://image.tmdb.org/t/p/w185/cTF8lpXvAwT1SLH9kVFZZl0AO0D.jpg' />"
      ],
      "text/plain": [
       "<IPython.core.display.HTML object>"
      ]
     },
     "metadata": {},
     "output_type": "display_data"
    },
    {
     "name": "stdout",
     "output_type": "stream",
     "text": [
      "Recommendations:\n"
     ]
    },
    {
     "data": {
      "text/html": [
       "<img style='width: 110px; margin: 0px; float: left; border: 1px solid black;' src='http://image.tmdb.org/t/p/w185//ll2YocDnf0zd1c0LvjlSJCILtIF.jpg' />"
      ],
      "text/plain": [
       "<IPython.core.display.HTML object>"
      ]
     },
     "metadata": {},
     "output_type": "display_data"
    }
   ],
   "source": [
    "display_recommendation_poster(movieList[0])"
   ]
  },
  {
   "cell_type": "code",
   "execution_count": 93,
   "metadata": {},
   "outputs": [
    {
     "name": "stdout",
     "output_type": "stream",
     "text": [
      "Input Moive: Toy Story\n"
     ]
    },
    {
     "data": {
      "text/html": [
       "<img style='width: 110px; margin: 0px; float: left; border: 1px solid black;' src='http://image.tmdb.org/t/p/w185/rhIRbceoE9lR4veEXuwCC2wARtG.jpg' />"
      ],
      "text/plain": [
       "<IPython.core.display.HTML object>"
      ]
     },
     "metadata": {},
     "output_type": "display_data"
    },
    {
     "name": "stdout",
     "output_type": "stream",
     "text": [
      "Recommendations:\n"
     ]
    },
    {
     "data": {
      "text/html": [
       "<img style='width: 110px; margin: 0px; float: left; border: 1px solid black;' src='http://image.tmdb.org/t/p/w185//QhbOzpYfBOwrRiuTu9otPk919R.jpg' />"
      ],
      "text/plain": [
       "<IPython.core.display.HTML object>"
      ]
     },
     "metadata": {},
     "output_type": "display_data"
    }
   ],
   "source": [
    "display_recommendation_poster(movieList[1])"
   ]
  },
  {
   "cell_type": "code",
   "execution_count": 94,
   "metadata": {},
   "outputs": [
    {
     "name": "stdout",
     "output_type": "stream",
     "text": [
      "Input Moive: Forest Gump\n"
     ]
    },
    {
     "data": {
      "text/html": [
       "<img style='width: 110px; margin: 0px; float: left; border: 1px solid black;' src='http://image.tmdb.org/t/p/w185/yE5d3BUhE8hCnkMUJOo1QDoOGNz.jpg' />"
      ],
      "text/plain": [
       "<IPython.core.display.HTML object>"
      ]
     },
     "metadata": {},
     "output_type": "display_data"
    },
    {
     "name": "stdout",
     "output_type": "stream",
     "text": [
      "Recommendations:\n"
     ]
    },
    {
     "data": {
      "text/html": [
       "<img style='width: 110px; margin: 0px; float: left; border: 1px solid black;' src='http://image.tmdb.org/t/p/w185//wVjtQtzv9IcNRGnOOdcK797Sdxx.jpg' />"
      ],
      "text/plain": [
       "<IPython.core.display.HTML object>"
      ]
     },
     "metadata": {},
     "output_type": "display_data"
    }
   ],
   "source": [
    "display_recommendation_poster(movieList[2])"
   ]
  },
  {
   "cell_type": "code",
   "execution_count": 95,
   "metadata": {},
   "outputs": [
    {
     "name": "stdout",
     "output_type": "stream",
     "text": [
      "Input Moive: Batman\n"
     ]
    },
    {
     "data": {
      "text/html": [
       "<img style='width: 110px; margin: 0px; float: left; border: 1px solid black;' src='http://image.tmdb.org/t/p/w185/kBf3g9crrADGMc2AMAMlLBgSm2h.jpg' />"
      ],
      "text/plain": [
       "<IPython.core.display.HTML object>"
      ]
     },
     "metadata": {},
     "output_type": "display_data"
    },
    {
     "name": "stdout",
     "output_type": "stream",
     "text": [
      "Recommendations:\n"
     ]
    },
    {
     "data": {
      "text/html": [
       "<img style='width: 110px; margin: 0px; float: left; border: 1px solid black;' src='http://image.tmdb.org/t/p/w185//21ouEk4YP3kwmghiIjplbyayK3l.jpg' />"
      ],
      "text/plain": [
       "<IPython.core.display.HTML object>"
      ]
     },
     "metadata": {},
     "output_type": "display_data"
    }
   ],
   "source": [
    "display_recommendation_poster(movieList[3])"
   ]
  },
  {
   "cell_type": "code",
   "execution_count": 96,
   "metadata": {},
   "outputs": [
    {
     "name": "stdout",
     "output_type": "stream",
     "text": [
      "Input Moive: Superman\n"
     ]
    },
    {
     "data": {
      "text/html": [
       "<img style='width: 110px; margin: 0px; float: left; border: 1px solid black;' src='http://image.tmdb.org/t/p/w185/n2DOECThGG7h7m5AjLi2Nuh23u1.jpg' />"
      ],
      "text/plain": [
       "<IPython.core.display.HTML object>"
      ]
     },
     "metadata": {},
     "output_type": "display_data"
    },
    {
     "name": "stdout",
     "output_type": "stream",
     "text": [
      "Recommendations:\n"
     ]
    },
    {
     "data": {
      "text/html": [
       "<img style='width: 110px; margin: 0px; float: left; border: 1px solid black;' src='http://image.tmdb.org/t/p/w185//7vbtLFfN00BaczHjOaPWui4aqg1.jpg' />"
      ],
      "text/plain": [
       "<IPython.core.display.HTML object>"
      ]
     },
     "metadata": {},
     "output_type": "display_data"
    }
   ],
   "source": [
    "display_recommendation_poster(movieList[4])"
   ]
  }
 ],
 "metadata": {
  "kernelspec": {
   "display_name": "Python 2",
   "language": "python",
   "name": "python2"
  },
  "language_info": {
   "codemirror_mode": {
    "name": "ipython",
    "version": 2
   },
   "file_extension": ".py",
   "mimetype": "text/x-python",
   "name": "python",
   "nbconvert_exporter": "python",
   "pygments_lexer": "ipython2",
   "version": "2.7.13"
  }
 },
 "nbformat": 4,
 "nbformat_minor": 2
}
