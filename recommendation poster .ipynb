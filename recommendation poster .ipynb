{
 "cells": [
  {
   "cell_type": "code",
   "execution_count": 1,
   "metadata": {
    "collapsed": true
   },
   "outputs": [],
   "source": [
    "import numpy as np\n",
    "import urllib\n",
    "import pandas as pd \n",
    "\n",
    "import requests\n",
    "import os\n",
    "import json\n",
    "\n",
    "from IPython.display import Image\n",
    "from IPython.display import HTML\n",
    "from IPython.display import display\n",
    "from PIL import Image"
   ]
  },
  {
   "cell_type": "code",
   "execution_count": 2,
   "metadata": {
    "collapsed": true
   },
   "outputs": [],
   "source": [
    "\"\"\"Input: IMDB movie ID\n",
    "   Outpu: poster url for that movie\"\"\"\n",
    "\n",
    "def getPoster(imdbid):\n",
    "    try:\n",
    "        url = \"https://api.themoviedb.org/3/find/tt{:}?api_key=bb3beb7ec7af6d1c0c23ca7381b62a89&external_source=imdb_id\".format(imdbid)\n",
    "        response = requests.get(url)\n",
    "        path = json.loads(response.text)\n",
    "        image_root = path['movie_results'][0]['poster_path']\n",
    "        image_path = 'http://image.tmdb.org/t/p/w185/' + image_root   \n",
    "    except:\n",
    "        image_path = \"\"    \n",
    "    return image_path"
   ]
  },
  {
   "cell_type": "code",
   "execution_count": 9,
   "metadata": {
    "collapsed": false
   },
   "outputs": [
    {
     "name": "stdout",
     "output_type": "stream",
     "text": [
      "Recommendations:\n"
     ]
    },
    {
     "data": {
      "text/html": [
       "<img style='width: 110px; margin: 0px; float: left; border: 1px solid black;' src='http://image.tmdb.org/t/p/w185//iMuDP5eKZQ0yG1fgFkkxxsMPP3J.jpg' /><img style='width: 110px; margin: 0px; float: left; border: 1px solid black;' src='http://image.tmdb.org/t/p/w185//3IGuAr1xsErR4XqmHZcfyQ4f8KY.jpg' /><img style='width: 110px; margin: 0px; float: left; border: 1px solid black;' src='http://image.tmdb.org/t/p/w185//iE38YqtaiHI4TqAkaEwgpAjUWSJ.jpg' /><img style='width: 110px; margin: 0px; float: left; border: 1px solid black;' src='http://image.tmdb.org/t/p/w185//l1yltvzILaZcx2jYvc5sEMkM7Eh.jpg' /><img style='width: 110px; margin: 0px; float: left; border: 1px solid black;' src='http://image.tmdb.org/t/p/w185//kvlKBGtyyNVyGJB72aD1vwPk2d4.jpg' /><img style='width: 110px; margin: 0px; float: left; border: 1px solid black;' src='http://image.tmdb.org/t/p/w185//uN6T5I2NqQjl3rM6mtr6xwHJ2rO.jpg' /><img style='width: 110px; margin: 0px; float: left; border: 1px solid black;' src='http://image.tmdb.org/t/p/w185//buRyLF9j9dn3DmCnYSl7RTd0kpX.jpg' /><img style='width: 110px; margin: 0px; float: left; border: 1px solid black;' src='http://image.tmdb.org/t/p/w185//lDjsrYxtik0NiclaxyG5WU4E2UH.jpg' />"
      ],
      "text/plain": [
       "<IPython.core.display.HTML object>"
      ]
     },
     "metadata": {},
     "output_type": "display_data"
    }
   ],
   "source": [
    "# Example: user 1\n",
    "imdbidList = [\"3605164\", \"0046268\", \"0062824\", \"0073195\", \"0141369\", \"0087197\", \"1186369\", \"0828154\"]\n",
    "rec_movie_url = [getPoster(i) for i in imdbidList] \n",
    "images = ''\n",
    "print(\"Recommendations:\")\n",
    "for i in range(8):\n",
    "    images += \"<img style='width: 110px; margin: 0px; float: left; border: 1px solid black;' src='%s' />\"% rec_movie_url[i]\n",
    "display(HTML(images))"
   ]
  }
 ],
 "metadata": {
  "kernelspec": {
   "display_name": "Python 2",
   "language": "python",
   "name": "python2"
  },
  "language_info": {
   "codemirror_mode": {
    "name": "ipython",
    "version": 2
   },
   "file_extension": ".py",
   "mimetype": "text/x-python",
   "name": "python",
   "nbconvert_exporter": "python",
   "pygments_lexer": "ipython2",
   "version": "2.7.13"
  }
 },
 "nbformat": 4,
 "nbformat_minor": 2
}
